{
  "cells": [
    {
      "cell_type": "markdown",
      "metadata": {
        "id": "opx-qasAZCZy"
      },
      "source": [
        "#  Data Science Tools and Ecosystem"
      ]
    },
    {
      "cell_type": "markdown",
      "metadata": {
        "id": "B2EColqZZCZz"
      },
      "source": [
        "In this notebook, Data Science Tools and Ecosystem are summarized."
      ]
    },
    {
      "cell_type": "markdown",
      "metadata": {
        "id": "7AH2-EdhZCZ0"
      },
      "source": [
        "Some of the popular languages that Data Scientists use are:\n",
        "\n",
        "1. Python  \n",
        "2. R  \n",
        "3. SQL  \n",
        "4. Java  \n",
        "5. Julia  \n",
        "6. SAS  \n",
        "7. MATLAB\n"
      ]
    },
    {
      "cell_type": "markdown",
      "metadata": {
        "id": "WPX5-CGQZCZ0"
      },
      "source": [
        "Some of the commonly used libraries used by Data Scientists include:\n",
        "\n",
        "1. Pandas  \n",
        "2. NumPy  \n",
        "3. Matplotlib  \n",
        "4. Seaborn  \n",
        "5. Scikit-learn  \n",
        "6. TensorFlow  \n",
        "7. Keras  \n",
        "8. SciPy  \n",
        "9. Statsmodels  \n",
        "10. PyTorch\n"
      ]
    },
    {
      "cell_type": "markdown",
      "metadata": {
        "id": "AY4TLw7QZCZ1"
      },
      "source": [
        "\n",
        "| Data Science Tools        |\n",
        "|---------------------------|\n",
        "| Jupyter Notebook          |\n",
        "| Spyder                    |\n",
        "| RStudio                   |\n"
      ]
    },
    {
      "cell_type": "markdown",
      "metadata": {
        "id": "Lg81i7qTZCZ1"
      },
      "source": [
        "### Below are a few examples of evaluating arithmetic expressions in Python\n",
        "\n",
        "\n",
        "1. **Addition**:  \n",
        "   `3 + 5 = 8`\n",
        "\n",
        "2. **Subtraction**:  \n",
        "   `10 - 4 = 6`\n",
        "\n",
        "3. **Multiplication**:  \n",
        "   `7 * 6 = 42`\n",
        "\n",
        "4. **Division**:  \n",
        "   `20 / 4 = 5`\n",
        "\n",
        "5. **Exponentiation**:  \n",
        "   `2^3 = 8`\n",
        "\n",
        "6. **Modulus** (remainder of division):  \n",
        "   `10 % 3 = 1`\n"
      ]
    },
    {
      "cell_type": "markdown",
      "metadata": {
        "id": "CopmVXZrZCZ2"
      },
      "source": [
        "## Multiplying and adding numbers"
      ]
    },
    {
      "cell_type": "code",
      "execution_count": 1,
      "metadata": {
        "colab": {
          "base_uri": "https://localhost:8080/"
        },
        "id": "iH9hj5VcZCZ2",
        "outputId": "c3963057-f758-40be-e9d8-9dd27f40eeb4"
      },
      "outputs": [
        {
          "data": {
            "text/plain": [
              "17"
            ]
          },
          "execution_count": 1,
          "metadata": {},
          "output_type": "execute_result"
        }
      ],
      "source": [
        "(3*4)+5"
      ]
    },
    {
      "cell_type": "markdown",
      "metadata": {
        "id": "vuaCn4XZZCZ3"
      },
      "source": [
        "## Convert minutes to hours"
      ]
    },
    {
      "cell_type": "code",
      "execution_count": 2,
      "metadata": {
        "colab": {
          "base_uri": "https://localhost:8080/"
        },
        "id": "4kLGS5bRZCZ4",
        "outputId": "0cc9192c-a68c-47fb-9413-e50cee21f606"
      },
      "outputs": [
        {
          "data": {
            "text/plain": [
              "3.3333333333333335"
            ]
          },
          "execution_count": 2,
          "metadata": {},
          "output_type": "execute_result"
        }
      ],
      "source": [
        "# This will convert 200 minutes to hours by diving by 60\n",
        "200/60\n"
      ]
    },
    {
      "cell_type": "markdown",
      "metadata": {
        "id": "nY9eneryZCZ4"
      },
      "source": [
        "**Objectives:**\n",
        "\n",
        "- List popular languages for Data Science.  \n",
        "- Identify commonly used Data Science libraries.  \n",
        "- Create and format tables in markdown.  \n",
        "- Perform basic arithmetic operations in code cells.  \n",
        "- Understand and use tools commonly employed in Data Science workflows.\n"
      ]
    },
    {
      "cell_type": "markdown",
      "metadata": {
        "id": "wsX5fDReZCZ4"
      },
      "source": [
        "## Author\n",
        "\n",
        "Ousmane OUEDRAOGO\n"
      ]
    }
  ],
  "metadata": {
    "colab": {
      "provenance": []
    },
    "kernelspec": {
      "display_name": "env",
      "language": "python",
      "name": "python3"
    },
    "language_info": {
      "name": "python",
      "version": "undefined.undefined.undefined"
    }
  },
  "nbformat": 4,
  "nbformat_minor": 0
}
